{
  "nbformat": 4,
  "nbformat_minor": 0,
  "metadata": {
    "colab": {
      "name": "Group 7 - Hauke Schhnepel.ipynb",
      "provenance": [],
      "collapsed_sections": [],
      "include_colab_link": true
    },
    "kernelspec": {
      "name": "python3",
      "display_name": "Python 3"
    }
  },
  "cells": [
    {
      "cell_type": "markdown",
      "metadata": {
        "id": "view-in-github",
        "colab_type": "text"
      },
      "source": [
        "<a href=\"https://colab.research.google.com/github/HaukeSchnepel/Newyorktimes/blob/Newyorktimes/Group_7_Hauke_Schhnepel.ipynb\" target=\"_parent\"><img src=\"https://colab.research.google.com/assets/colab-badge.svg\" alt=\"Open In Colab\"/></a>"
      ]
    },
    {
      "cell_type": "code",
      "metadata": {
        "colab": {
          "base_uri": "https://localhost:8080/"
        },
        "id": "qhFcu-CRsNHv",
        "outputId": "9825c17b-881b-41f8-cc2b-ecba701fc62d"
      },
      "source": [
        "from google.colab import drive\n",
        "drive.mount('/content/drive')"
      ],
      "execution_count": 61,
      "outputs": [
        {
          "output_type": "stream",
          "text": [
            "Drive already mounted at /content/drive; to attempt to forcibly remount, call drive.mount(\"/content/drive\", force_remount=True).\n"
          ],
          "name": "stdout"
        }
      ]
    },
    {
      "cell_type": "code",
      "metadata": {
        "id": "icfsDdXwsYAH"
      },
      "source": [
        "import json"
      ],
      "execution_count": 62,
      "outputs": []
    },
    {
      "cell_type": "code",
      "metadata": {
        "id": "57-EEftXuFMZ",
        "colab": {
          "base_uri": "https://localhost:8080/"
        },
        "outputId": "4a9646b3-b0f6-4020-8004-c7bcf5af822a"
      },
      "source": [
        "path = \"/content/json_test.json\"\n",
        "path_to_folder = \"/content/drive/MyDrive/SHSG Winterschool/content/openpose/output\"\n",
        "\n",
        "with open(path) as file:\n",
        "  data = json.load(file)\n",
        "\n",
        "#print(data)\n",
        "version = data[\"version\"]\n",
        "people = data[\"people\"]\n",
        "people = people[0]\n",
        "pose_keypoints = people[\"pose_keypoints_2d\"]\n",
        "#print(pose_keypoints)\n",
        "\n",
        "#nose = 0\n",
        "#chest = 1\n",
        "shoulder_right = 2\n",
        "shoulder_left = 5\n",
        "\n",
        "\n",
        "#nose = pose_keypoints[nose*3],pose_keypoints[nose*3 + 1]\n",
        "#chest = pose_keypoints[chest*3],pose_keypoints[chest*3 + 1]\n",
        "s_left = pose_keypoints[shoulder_left*3],pose_keypoints[shoulder_left*3 + 1]\n",
        "s_right = pose_keypoints[shoulder_right*3],pose_keypoints[shoulder_right*3 +1]\n",
        "\n",
        "#print(nose)\n",
        "#print(chest)\n",
        "print(s_left)\n",
        "print(s_right)"
      ],
      "execution_count": 84,
      "outputs": [
        {
          "output_type": "stream",
          "text": [
            "(568.627, 292.441)\n",
            "(290.52, 319.82)\n"
          ],
          "name": "stdout"
        }
      ]
    },
    {
      "cell_type": "code",
      "metadata": {
        "colab": {
          "base_uri": "https://localhost:8080/"
        },
        "id": "p9_TnY3nMTu3",
        "outputId": "e0d972d4-0c83-42ab-a0fa-bbbe3fbe18f0"
      },
      "source": [
        "path_to_folder = \"/content/drive/MyDrive/SHSG Winterschool/content/openpose/output/\"\n",
        "\n",
        "i = 0\n",
        "\n",
        "nose_list = []\n",
        "chest_list = []\n",
        "right_shoulder_list = []\n",
        "left_shoulder_list = []\n",
        "\n",
        "right_elbow_list = []\n",
        "left_elbow_list = []\n",
        "right_hand_list = []\n",
        "left_hand_list = []\n",
        "\n",
        "for ele in path_to_folder:\n",
        "    if i < 10:\n",
        "      path_to_file = path_to_folder + \"video_out_00000000000\" + str(i) + \"_keypoints.json\"\n",
        "    elif i < 100:\n",
        "      path_to_file = path_to_folder + \"video_out_0000000000\" + str(i) + \"_keypoints.json\"\n",
        "    elif i < 1000:\n",
        "      path_to_file = path_to_folder + \"video_out_000000000\" + str(i) + \"_keypoints.json\"\n",
        "    else:\n",
        "      print(\"error\")\n",
        "    with open(path_to_file) as file:\n",
        "      data = json.load(file)\n",
        "      #print(data)\n",
        "      version = data[\"version\"]\n",
        "      people = data[\"people\"]\n",
        "      people = people[0]\n",
        "      pose_keypoints = people[\"pose_keypoints_2d\"]\n",
        "\n",
        "      nose = 0\n",
        "      chest = 1\n",
        "      shoulder_right = 2\n",
        "      shoulder_left = 5\n",
        "\n",
        "      right_elbow_position = 3*3\n",
        "      right_hand_position = 4*3\n",
        "      left_elbow_position = 6*3\n",
        "      left_hand_position = 7*3\n",
        "\n",
        "      nose = pose_keypoints[nose*3],pose_keypoints[nose*3 + 1]\n",
        "      chest = pose_keypoints[chest*3],pose_keypoints[chest*3 + 1]\n",
        "      s_left = pose_keypoints[shoulder_left*3],pose_keypoints[shoulder_left*3 + 1]\n",
        "      left_elbow = pose_keypoints[left_elbow_position], pose_keypoints[left_elbow_position + 1]\n",
        "      left_hand = pose_keypoints[left_hand_position], pose_keypoints[left_hand_position + 1]\n",
        "      s_right = pose_keypoints[shoulder_right*3],pose_keypoints[shoulder_right*3 +1]\n",
        "      right_elbow = pose_keypoints[right_elbow_position], pose_keypoints[right_elbow_position + 1]\n",
        "      right_hand = pose_keypoints[right_hand_position], pose_keypoints[right_hand_position + 1]\n",
        "\n",
        "      #print(nose)\n",
        "      #print(chest)\n",
        "      #print(s_left)\n",
        "      #print(s_right)\n",
        "      nose = nose_list.append(nose)\n",
        "      chest_list.append(chest)\n",
        "      right_shoulder_list.append(s_right)\n",
        "      right_elbow_list\n",
        "      left_elbow_list\n",
        "      right_hand_list\n",
        "      left_hand_list\n",
        "      left_shoulder_list.append(s_left)\n",
        "    i += 1\n",
        "\n",
        "\n",
        "print(nose_list)\n",
        "print(chest_list)\n",
        "print(right_shoulder_list)\n",
        "print(left_shoulder_list)"
      ],
      "execution_count": 86,
      "outputs": [
        {
          "output_type": "stream",
          "text": [
            "[(413.889, 192.445), (413.889, 192.443), (413.889, 192.444), (413.889, 192.444), (413.889, 192.444), (413.889, 192.443), (415.768, 192.446), (417.762, 192.422), (419.799, 192.449), (425.601, 192.429), (427.612, 192.488), (429.576, 192.432), (431.444, 192.43), (431.539, 192.443), (431.612, 192.455), (433.476, 192.451), (435.425, 192.447), (435.477, 192.461), (439.306, 192.453), (439.316, 192.48), (437.423, 192.484), (437.352, 192.432), (435.434, 190.564), (435.419, 190.492), (435.41, 188.555), (435.414, 186.61), (435.441, 184.668), (435.409, 182.752), (435.41, 182.747), (433.532, 182.759), (433.464, 182.769), (431.611, 182.776), (431.615, 184.641), (431.598, 184.683), (431.603, 184.695), (431.558, 184.635), (431.544, 184.629), (431.544, 184.634), (431.559, 184.634), (431.556, 182.745), (431.57, 182.758), (431.54, 182.756), (431.536, 182.763), (431.481, 182.77), (431.449, 184.632), (429.616, 184.642), (429.597, 184.643), (429.567, 184.639), (429.548, 184.642), (429.544, 184.636), (429.547, 182.753), (429.544, 182.721), (429.552, 182.732), (429.547, 182.75), (429.547, 182.767), (429.541, 182.714), (429.539, 182.701), (429.549, 182.705), (429.499, 182.709), (429.499, 182.689), (427.61, 182.723), (427.573, 182.723), (427.571, 184.628), (425.66, 186.603), (427.554, 188.586)]\n",
            "[(415.906, 321.747), (415.906, 321.747), (415.907, 321.747), (415.907, 321.746), (415.902, 321.745), (415.903, 321.746), (421.692, 321.754), (429.467, 319.889), (429.588, 321.744), (431.47, 321.776), (431.497, 321.814), (431.563, 321.782), (431.589, 321.795), (431.601, 321.801), (431.608, 321.804), (433.436, 321.804), (431.58, 321.787), (431.573, 321.837), (431.545, 321.791), (431.496, 321.787), (431.443, 321.768), (429.606, 319.886), (429.53, 319.85), (429.524, 319.823), (429.576, 319.758), (429.56, 317.881), (429.586, 317.828), (429.558, 315.92), (429.562, 315.883), (429.566, 317.82), (429.587, 317.829), (429.589, 317.853), (429.518, 313.968), (429.593, 317.811), (431.517, 315.916), (431.438, 312.005), (431.483, 310.043), (431.528, 310.013), (431.45, 308.054), (431.45, 306.212), (429.623, 306.186), (429.613, 306.141), (429.537, 306.153), (429.514, 306.133), (429.505, 306.13), (429.481, 306.147), (429.484, 306.154), (429.464, 306.142), (429.48, 306.102), (427.603, 306.105), (427.607, 306.107), (427.618, 306.087), (427.604, 306.132), (427.601, 306.187), (427.599, 306.184), (427.585, 306.194), (427.597, 308.052), (427.582, 308.089), (427.554, 308.067), (425.636, 306.189), (425.621, 308.079), (425.606, 308.066), (425.612, 308.135), (417.863, 310.038), (417.838, 312.031)]\n",
            "[(290.45, 315.875), (290.449, 315.877), (290.449, 315.877), (290.448, 315.875), (290.448, 315.877), (290.449, 315.879), (294.349, 315.894), (302.229, 313.949), (304.171, 315.922), (306.096, 317.817), (306.088, 317.85), (306.149, 317.876), (308.073, 319.774), (306.182, 319.84), (308.069, 319.858), (308.079, 319.865), (308.068, 319.807), (306.188, 319.787), (306.109, 317.897), (306.078, 317.878), (304.15, 317.851), (304.136, 313.988), (302.211, 313.935), (300.27, 313.936), (302.232, 310.057), (304.104, 310.045), (302.234, 310.073), (302.216, 311.983), (302.219, 311.986), (302.216, 312.018), (302.228, 312.021), (302.163, 313.927), (300.229, 313.929), (296.328, 315.907), (296.319, 315.943), (294.347, 317.9), (294.365, 317.87), (292.469, 317.873), (292.452, 317.881), (292.385, 319.791), (292.397, 319.82), (290.52, 319.82), (290.498, 319.851), (290.443, 319.891), (290.421, 321.756), (290.407, 321.739), (290.43, 321.744), (290.415, 321.733), (290.396, 319.855), (290.403, 319.838), (288.542, 319.858), (288.537, 319.864), (288.53, 319.855), (288.522, 319.866), (288.517, 319.862), (288.519, 319.86), (288.526, 319.863), (288.541, 319.855), (288.507, 319.803), (288.451, 317.895), (288.458, 317.896), (288.467, 319.761), (288.457, 319.801), (286.508, 319.828), (286.512, 321.732)]\n",
            "[(541.17, 329.655), (541.171, 329.655), (541.173, 329.647), (541.173, 329.646), (541.17, 329.65), (541.171, 329.651), (543.162, 331.556), (549.035, 329.61), (552.953, 331.573), (554.904, 331.616), (554.92, 331.593), (554.99, 329.614), (556.862, 327.677), (556.926, 325.729), (556.928, 325.727), (556.936, 325.725), (556.915, 325.701), (556.894, 329.62), (556.861, 329.604), (554.934, 329.638), (554.915, 329.62), (553.002, 327.671), (551.036, 325.745), (552.929, 325.699), (552.912, 323.73), (551.016, 321.805), (551.029, 319.897), (552.941, 319.829), (551.04, 317.874), (552.918, 319.792), (554.891, 319.812), (556.858, 319.801), (554.934, 315.922), (560.796, 317.834), (566.705, 313.953), (564.723, 308.077), (568.618, 306.182), (570.584, 306.185), (568.627, 302.194), (570.593, 300.211), (568.632, 294.371), (568.627, 292.441), (566.662, 290.517), (566.653, 290.467), (562.793, 290.455), (562.787, 290.517), (564.7, 290.52), (560.83, 290.509), (562.767, 290.494), (558.876, 290.49), (560.816, 290.504), (558.887, 290.467), (558.882, 292.41), (558.835, 294.397), (556.92, 294.375), (556.899, 294.386), (556.875, 296.35), (556.898, 298.318), (556.907, 300.214), (556.877, 300.227), (556.857, 302.201), (554.935, 302.158), (554.962, 304.118), (551.035, 304.199), (550.996, 306.107)]\n"
          ],
          "name": "stdout"
        }
      ]
    },
    {
      "cell_type": "code",
      "metadata": {
        "id": "g6UBDGizNq1O"
      },
      "source": [
        "# tasks:\n",
        "#create a list with a coordinates of right shoulder and another list with the left shoulder -  Wanja\n",
        "#find distance - Florian\n",
        "#finde slope - Noemi \n",
        "#function to find how close to be a camera (function with two areguemtns)"
      ],
      "execution_count": 65,
      "outputs": []
    },
    {
      "cell_type": "code",
      "metadata": {
        "id": "OnYpL8AoSMOG"
      },
      "source": [
        ""
      ],
      "execution_count": 65,
      "outputs": []
    }
  ]
}